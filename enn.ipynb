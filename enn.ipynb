{
 "cells": [
  {
   "cell_type": "code",
   "execution_count": 2,
   "metadata": {},
   "outputs": [
    {
     "name": "stdout",
     "output_type": "stream",
     "text": [
      "Requirement already satisfied: imbalanced-learn in c:\\users\\adity\\anaconda3\\lib\\site-packages (0.11.0)\n",
      "Requirement already satisfied: numpy>=1.17.3 in c:\\users\\adity\\anaconda3\\lib\\site-packages (from imbalanced-learn) (1.26.4)\n",
      "Requirement already satisfied: scipy>=1.5.0 in c:\\users\\adity\\anaconda3\\lib\\site-packages (from imbalanced-learn) (1.11.4)\n",
      "Requirement already satisfied: scikit-learn>=1.0.2 in c:\\users\\adity\\anaconda3\\lib\\site-packages (from imbalanced-learn) (1.2.2)\n",
      "Requirement already satisfied: joblib>=1.1.1 in c:\\users\\adity\\anaconda3\\lib\\site-packages (from imbalanced-learn) (1.2.0)\n",
      "Requirement already satisfied: threadpoolctl>=2.0.0 in c:\\users\\adity\\anaconda3\\lib\\site-packages (from imbalanced-learn) (2.2.0)\n",
      "    age  gender  tot_bilirubin  direct_bilirubin  tot_proteins  albumin  \\\n",
      "0  62.0     1.0           10.9               5.5         699.0     64.0   \n",
      "1  62.0     1.0            7.3               4.1         490.0     60.0   \n",
      "2  72.0     1.0            3.9               2.0         195.0     27.0   \n",
      "3  55.0     1.0            0.7               0.2         290.0     53.0   \n",
      "4  57.0     1.0            0.6               0.1         210.0     51.0   \n",
      "\n",
      "   ag_ratio  sgpt  sgot  alkphos  is_patient  \n",
      "0     100.0   7.5   3.2     0.74           1  \n",
      "1      68.0   7.0   3.3     0.89           1  \n",
      "2      59.0   7.3   2.4     0.40           1  \n",
      "3      58.0   6.8   3.4     1.00           1  \n",
      "4      59.0   5.9   2.7     0.80           1  \n"
     ]
    }
   ],
   "source": [
    "!pip install imbalanced-learn\n",
    "\n",
    "import pandas as pd\n",
    "from imblearn.under_sampling import EditedNearestNeighbours\n",
    "from imblearn.over_sampling import ADASYN\n",
    "from sklearn.preprocessing import MinMaxScaler, LabelEncoder\n",
    "\n",
    "# Load dataset\n",
    "file_path = r'C:\\Users\\adity\\OneDrive\\Documents\\project\\NAFLD\\Indian Liver Patient Dataset (ILPD)_cleaned.csv'\n",
    "df = pd.read_csv(file_path)\n",
    "\n",
    "# Encode 'gender' column\n",
    "label_encoder = LabelEncoder()\n",
    "df['gender'] = label_encoder.fit_transform(df['gender'])\n",
    "\n",
    "# Separate features and target variable\n",
    "X = df.drop('is_patient', axis=1).values\n",
    "y = df['is_patient'].values\n",
    "\n",
    "# Apply ENN (Edited Nearest Neighbors)\n",
    "enn = EditedNearestNeighbours()\n",
    "X_resampled, y_resampled = enn.fit_resample(X, y)\n",
    "\n",
    "# Apply ADASYN (Adaptive Synthetic Sampling)\n",
    "adasyn = ADASYN(random_state=42)\n",
    "X_adasyn, y_adasyn = adasyn.fit_resample(X_resampled, y_resampled)\n",
    "\n",
    "# Combine the resampled data into a DataFrame\n",
    "resampled_df = pd.DataFrame(X_adasyn, columns=df.drop('is_patient', axis=1).columns)\n",
    "resampled_df['is_patient'] = y_adasyn\n",
    "\n",
    "# Save the resampled dataset to CSV\n",
    "resampled_file_path = r'C:\\Users\\adity\\OneDrive\\Documents\\project\\NAFLD\\resampled_ILPD.csv'\n",
    "resampled_df.to_csv(resampled_file_path, index=False)\n",
    "\n",
    "# Display the first few rows of the resampled data\n",
    "print(resampled_df.head())\n"
   ]
  }
 ],
 "metadata": {
  "kernelspec": {
   "display_name": "base",
   "language": "python",
   "name": "python3"
  },
  "language_info": {
   "codemirror_mode": {
    "name": "ipython",
    "version": 3
   },
   "file_extension": ".py",
   "mimetype": "text/x-python",
   "name": "python",
   "nbconvert_exporter": "python",
   "pygments_lexer": "ipython3",
   "version": "3.11.7"
  }
 },
 "nbformat": 4,
 "nbformat_minor": 2
}
